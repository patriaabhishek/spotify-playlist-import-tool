{
 "cells": [
  {
   "cell_type": "code",
   "execution_count": null,
   "id": "33d228cf",
   "metadata": {},
   "outputs": [],
   "source": [
    "import pandas as pd\n",
    "import spotipy\n",
    "from spotipy.oauth2 import SpotifyClientCredentials"
   ]
  },
  {
   "cell_type": "code",
   "execution_count": null,
   "id": "3fd759b6",
   "metadata": {},
   "outputs": [],
   "source": [
    "username = \"your-spotify-username\"\n",
    "scope = \"playlist-modify-private'\"\"\n",
    "\n",
    "#Please remember to add the spotify redirect_uri to the app made on the Spotify developers portal\n",
    "\n",
    "token = spotipy.util.prompt_for_user_token(username,\n",
    "                           scope,\n",
    "                           client_id=\"your-spotify-developer-client-id\",\n",
    "                           client_secret=\"your-spotify-developer-client-secret\",\n",
    "                           redirect_uri='http://127.0.0.1:8000/spotify/callback/')\n",
    "spotify = spotipy.Spotify(auth=token)"
   ]
  },
  {
   "cell_type": "code",
   "execution_count": null,
   "id": "95108481",
   "metadata": {},
   "outputs": [],
   "source": [
    "playlist_id = \"spotify:playlist:425ypQp6wbXUukAmQw2Dgn\"\n",
    "track_ids = []"
   ]
  },
  {
   "cell_type": "code",
   "execution_count": null,
   "id": "70a9d230",
   "metadata": {},
   "outputs": [],
   "source": [
    "#Reading song names from a file\n",
    "track_list = pd.read_csv(\"song_list.csv\")[\"song\"].to_list()"
   ]
  },
  {
   "cell_type": "code",
   "execution_count": null,
   "id": "fb57f80a",
   "metadata": {},
   "outputs": [],
   "source": [
    "#Searching for songs on Spotify\n",
    "for track_name in track_list:\n",
    "    try:\n",
    "        search_response = spotify.search(track_name, limit=1, type=\"track\")\n",
    "        track_uri = search_response[\"tracks\"][\"items\"][0][\"uri\"]\n",
    "        track_ids.append(track_uri)\n",
    "    except:\n",
    "        pass"
   ]
  },
  {
   "cell_type": "code",
   "execution_count": null,
   "id": "eb0d3395",
   "metadata": {},
   "outputs": [],
   "source": [
    "print(\"Total songs to be searched: {}\".format(len(track_list)))\n",
    "print(\"Total probable matches: {}\".format(len(track_ids)))\n",
    "print(\"Search ratio: {}\".format(len(track_ids)/len(track_list)))"
   ]
  },
  {
   "cell_type": "code",
   "execution_count": null,
   "id": "46599c76",
   "metadata": {},
   "outputs": [],
   "source": [
    "#Adding probable matches to a playlist in batches\n",
    "for i in range(0, len(track_ids), 100):\n",
    "    results = spotify.user_playlist_add_tracks(username, playlist_id, track_ids[i:i+100])"
   ]
  }
 ],
 "metadata": {
  "kernelspec": {
   "display_name": "Python 3 (ipykernel)",
   "language": "python",
   "name": "python3"
  },
  "language_info": {
   "codemirror_mode": {
    "name": "ipython",
    "version": 3
   },
   "file_extension": ".py",
   "mimetype": "text/x-python",
   "name": "python",
   "nbconvert_exporter": "python",
   "pygments_lexer": "ipython3",
   "version": "3.7.13"
  }
 },
 "nbformat": 4,
 "nbformat_minor": 5
}
